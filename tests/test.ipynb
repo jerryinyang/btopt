{
 "cells": [
  {
   "cell_type": "code",
   "execution_count": 8,
   "metadata": {},
   "outputs": [
    {
     "name": "stdout",
     "output_type": "stream",
     "text": [
      "All test cases passed. The functions are equivalent.\n"
     ]
    }
   ],
   "source": [
    "# Original expression\n",
    "original = lambda old_value, new_value: (\n",
    "    (old_value == 0) or\n",
    "    (old_value > 0 and (old_value + new_value < 0 or old_value + new_value > old_value)) or\n",
    "    (old_value < 0 and (old_value + new_value > 0 or old_value + new_value < old_value))\n",
    ")\n",
    "\n",
    "# Optimized expression\n",
    "optimized = lambda old_value, new_value: (\n",
    "    (old_value != 0 and (old_value * (old_value + new_value) < 0 or (new_value > 0 and old_value > 0) or (new_value < 0 and old_value < 0))) \n",
    "    or (old_value == 0)\n",
    ")\n",
    "\n",
    "# Test function\n",
    "def test_equivalence(func1, func2):\n",
    "    test_cases = [\n",
    "        (0, 10), (0, -10), (20, -40), (20, -30), (20, -20), (20, -10), (20, 10),\n",
    "        (-20, 40), (-20, 30), (-20, 20), (-20, 10), (-20, -10)\n",
    "    ]\n",
    "    for old, new in test_cases:\n",
    "        assert func1(old, new) == func2(old, new), f\"Mismatch for {old}, {new}\"\n",
    "    print(\"All test cases passed. The functions are equivalent.\")\n",
    "\n",
    "# Run the test\n",
    "test_equivalence(original, optimized)\n"
   ]
  }
 ],
 "metadata": {
  "kernelspec": {
   "display_name": "btopt-FO9oQ83z-py3.12",
   "language": "python",
   "name": "python3"
  },
  "language_info": {
   "codemirror_mode": {
    "name": "ipython",
    "version": 3
   },
   "file_extension": ".py",
   "mimetype": "text/x-python",
   "name": "python",
   "nbconvert_exporter": "python",
   "pygments_lexer": "ipython3",
   "version": "3.12.4"
  }
 },
 "nbformat": 4,
 "nbformat_minor": 2
}
