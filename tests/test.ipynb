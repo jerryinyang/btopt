{
 "cells": [
  {
   "cell_type": "code",
   "execution_count": 1,
   "metadata": {},
   "outputs": [],
   "source": [
    "from btopt.data.dataloader import CSVDataLoader\n",
    "from btopt.engine import Engine"
   ]
  },
  {
   "cell_type": "code",
   "execution_count": 2,
   "metadata": {},
   "outputs": [
    {
     "name": "stdout",
     "output_type": "stream",
     "text": [
      "dict_keys(['MAUD', 'MEUR', 'EURUSD'])\n",
      "Data updated for MAUD at 1m timeframe.\n",
      "Data updated for MEUR at 1m timeframe.\n",
      "Data updated for EURUSD at 1m timeframe.\n",
      "Added data for 3 symbols.\n"
     ]
    }
   ],
   "source": [
    "# Load data for multiple symbols and timeframes\n",
    "symbols = [\"MAUD\", \"MEUR\", \"EURUSD\"]\n",
    "timeframes = [\"1m\", \"5m\", \"15m\", \"1h\", \"4h\", \"1d\"]\n",
    "\n",
    "# Initialize CSVDataLoader\n",
    "csv_loader = CSVDataLoader(\n",
    "    symbols,\n",
    "    \"1m\",\n",
    "    start_date=\"2022-01-01\",\n",
    "    end_date=\"2022-12-31\",\n",
    ")\n",
    "\n",
    "print(csv_loader.tickers)\n",
    "\n",
    "engine = Engine()\n",
    "engine.add_data(csv_loader)"
   ]
  },
  {
   "cell_type": "code",
   "execution_count": 3,
   "metadata": {},
   "outputs": [],
   "source": [
    "engine._dataview.master_timeline"
   ]
  },
  {
   "cell_type": "code",
   "execution_count": 4,
   "metadata": {},
   "outputs": [
    {
     "name": "stdout",
     "output_type": "stream",
     "text": [
      "Data updated for MAUD at 1d timeframe.\n",
      "Data resampled and added for MAUD from 1m to 1d timeframe.\n",
      "Data updated for MEUR at 1d timeframe.\n",
      "Data resampled and added for MEUR from 1m to 1d timeframe.\n",
      "Data updated for EURUSD at 1d timeframe.\n",
      "Data resampled and added for EURUSD from 1m to 1d timeframe.\n",
      "Resampled data for 3 symbols to 1d.\n"
     ]
    }
   ],
   "source": [
    "csv_loader_1d = CSVDataLoader(\n",
    "    symbols,\n",
    "    \"1m\",\n",
    "    start_date=\"2021-01-01\",\n",
    "    end_date=\"2023-12-31\",\n",
    ")\n",
    "\n",
    "engine.resample_data(csv_loader_1d, \"1d\")"
   ]
  },
  {
   "cell_type": "code",
   "execution_count": 5,
   "metadata": {},
   "outputs": [
    {
     "data": {
      "text/plain": [
       "dict_values([                       open    high     low   close  volume\n",
       "time                                                       \n",
       "2021-01-03 23:00:00  0.7680  0.7711  0.7680  0.7700      70\n",
       "2021-01-03 23:01:00  0.7700  0.7702  0.7698  0.7699      45\n",
       "2021-01-03 23:02:00  0.7698  0.7699  0.7696  0.7699      69\n",
       "2021-01-03 23:03:00  0.7699  0.7702  0.7699  0.7700      17\n",
       "2021-01-03 23:04:00  0.7700  0.7700  0.7698  0.7700      17\n",
       "...                     ...     ...     ...     ...     ...\n",
       "2023-12-29 21:55:00  0.6827  0.6828  0.6827  0.6827       3\n",
       "2023-12-29 21:56:00  0.6826  0.6826  0.6826  0.6826      39\n",
       "2023-12-29 21:57:00  0.6826  0.6826  0.6826  0.6826      10\n",
       "2023-12-29 21:58:00  0.6827  0.6827  0.6827  0.6827       1\n",
       "2023-12-29 21:59:00  0.6826  0.6828  0.6826  0.6826      11\n",
       "\n",
       "[919502 rows x 5 columns],                        open    high     low   close  volume\n",
       "time                                                       \n",
       "2021-01-03 23:00:00  1.2253  1.2263  1.2234  1.2254     310\n",
       "2021-01-03 23:01:00  1.2252  1.2253  1.2251  1.2252      54\n",
       "2021-01-03 23:02:00  1.2251  1.2252  1.2250  1.2252      47\n",
       "2021-01-03 23:03:00  1.2252  1.2254  1.2250  1.2252      65\n",
       "2021-01-03 23:04:00  1.2253  1.2253  1.2252  1.2252      48\n",
       "...                     ...     ...     ...     ...     ...\n",
       "2023-12-29 21:55:00  1.1073  1.1074  1.1073  1.1074      10\n",
       "2023-12-29 21:56:00  1.1073  1.1073  1.1072  1.1072      10\n",
       "2023-12-29 21:57:00  1.1072  1.1072  1.1072  1.1072       9\n",
       "2023-12-29 21:58:00  1.1072  1.1073  1.1071  1.1071      13\n",
       "2023-12-29 21:59:00  1.1071  1.1071  1.1070  1.1071      33\n",
       "\n",
       "[1136862 rows x 5 columns],                        open    high     low   close  volume\n",
       "time                                                       \n",
       "2021-01-01 00:00:00  1.2215  1.2215  1.2215  1.2215     0.0\n",
       "2021-01-01 00:01:00  1.2215  1.2215  1.2215  1.2215     0.0\n",
       "2021-01-01 00:02:00  1.2215  1.2215  1.2215  1.2215     0.0\n",
       "2021-01-01 00:03:00  1.2215  1.2215  1.2215  1.2215     0.0\n",
       "2021-01-01 00:04:00  1.2215  1.2215  1.2215  1.2215     0.0\n",
       "...                     ...     ...     ...     ...     ...\n",
       "2023-12-31 23:56:00  1.1037  1.1037  1.1037  1.1037     0.0\n",
       "2023-12-31 23:57:00  1.1037  1.1037  1.1037  1.1037     0.0\n",
       "2023-12-31 23:58:00  1.1037  1.1037  1.1037  1.1037     0.0\n",
       "2023-12-31 23:59:00  1.1037  1.1037  1.1037  1.1037     0.0\n",
       "2024-01-01 00:00:00  1.1037  1.1037  1.1037  1.1037     0.0\n",
       "\n",
       "[1102104 rows x 5 columns]])"
      ]
     },
     "execution_count": 5,
     "metadata": {},
     "output_type": "execute_result"
    }
   ],
   "source": [
    "csv_loader_1d.dataframes.values()"
   ]
  },
  {
   "cell_type": "code",
   "execution_count": 8,
   "metadata": {},
   "outputs": [
    {
     "data": {
      "text/plain": [
       "DatetimeIndex(['2022-01-02 22:00:00', '2022-01-02 22:01:00',\n",
       "               '2022-01-02 22:02:00', '2022-01-02 22:03:00',\n",
       "               '2022-01-02 22:04:00', '2022-01-02 22:05:00',\n",
       "               '2022-01-02 22:06:00', '2022-01-02 22:07:00',\n",
       "               '2022-01-02 22:08:00', '2022-01-02 22:09:00',\n",
       "               ...\n",
       "               '2022-12-30 21:50:00', '2022-12-30 21:51:00',\n",
       "               '2022-12-30 21:52:00', '2022-12-30 21:53:00',\n",
       "               '2022-12-30 21:54:00', '2022-12-30 21:55:00',\n",
       "               '2022-12-30 21:56:00', '2022-12-30 21:57:00',\n",
       "               '2022-12-30 21:58:00', '2022-12-30 21:59:00'],\n",
       "              dtype='datetime64[ns]', length=375558, freq=None)"
      ]
     },
     "execution_count": 8,
     "metadata": {},
     "output_type": "execute_result"
    }
   ],
   "source": [
    "engine._dataview.master_timeline"
   ]
  },
  {
   "cell_type": "code",
   "execution_count": 7,
   "metadata": {},
   "outputs": [
    {
     "name": "stdout",
     "output_type": "stream",
     "text": [
      "All data aligned to master timeline.\n"
     ]
    }
   ],
   "source": [
    "engine._dataview.align_all_data()"
   ]
  }
 ],
 "metadata": {
  "kernelspec": {
   "display_name": "btopt-FO9oQ83z-py3.12",
   "language": "python",
   "name": "python3"
  },
  "language_info": {
   "codemirror_mode": {
    "name": "ipython",
    "version": 3
   },
   "file_extension": ".py",
   "mimetype": "text/x-python",
   "name": "python",
   "nbconvert_exporter": "python",
   "pygments_lexer": "ipython3",
   "version": "3.12.4"
  }
 },
 "nbformat": 4,
 "nbformat_minor": 2
}
