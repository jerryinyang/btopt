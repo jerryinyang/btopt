{
 "cells": [
  {
   "cell_type": "code",
   "execution_count": 8,
   "metadata": {},
   "outputs": [
    {
     "name": "stdout",
     "output_type": "stream",
     "text": [
      "Time taken to access elements in a 2D list: 0.173210 seconds\n",
      "Time taken to access elements in a 2D NumPy array: 0.683446 seconds\n"
     ]
    }
   ],
   "source": [
    "import timeit\n",
    "\n",
    "import numpy as np\n",
    "\n",
    "# Create a large 2D list and a 2D NumPy array with the same data\n",
    "data_size = 1000\n",
    "data_list = [[i + j for j in range(data_size)] for i in range(data_size)]\n",
    "data_array = np.array(data_list)\n",
    "\n",
    "\n",
    "# Function to access elements in a 2D list\n",
    "def access_list():\n",
    "    for i in range(data_size):\n",
    "        for j in range(data_size):\n",
    "            _ = data_list[i][j]\n",
    "\n",
    "\n",
    "# Function to access elements in a 2D NumPy array\n",
    "def access_array():\n",
    "    for i in range(data_size):\n",
    "        for j in range(data_size):\n",
    "            _ = data_array[i, j]\n",
    "\n",
    "\n",
    "# Measure the time taken to access elements in the 2D list\n",
    "time_list = timeit.timeit(access_list, number=10)\n",
    "\n",
    "# Measure the time taken to access elements in the 2D NumPy array\n",
    "time_array = timeit.timeit(access_array, number=10)\n",
    "\n",
    "print(f\"Time taken to access elements in a 2D list: {time_list:.6f} seconds\")\n",
    "print(f\"Time taken to access elements in a 2D NumPy array: {time_array:.6f} seconds\")"
   ]
  }
 ],
 "metadata": {
  "kernelspec": {
   "display_name": "btopt-FO9oQ83z-py3.12",
   "language": "python",
   "name": "python3"
  },
  "language_info": {
   "codemirror_mode": {
    "name": "ipython",
    "version": 3
   },
   "file_extension": ".py",
   "mimetype": "text/x-python",
   "name": "python",
   "nbconvert_exporter": "python",
   "pygments_lexer": "ipython3",
   "version": "3.12.4"
  }
 },
 "nbformat": 4,
 "nbformat_minor": 2
}
