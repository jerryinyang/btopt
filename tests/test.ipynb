{
 "cells": [
  {
   "cell_type": "code",
   "execution_count": 1,
   "metadata": {},
   "outputs": [],
   "source": [
    "\n",
    "from dataclasses import dataclass\n",
    "\n",
    "@dataclass \n",
    "class Position:\n",
    "    total_cost = 0\n",
    "    quantity = 0\n",
    "    average_price = 0\n",
    "\n",
    "    def __repr__(self) -> str:\n",
    "        return f\"total_cost: {self.total_cost}\\nquantity: {self.quantity}\\naverage_price: {self.average_price}\\n\"\n",
    "    \n",
    "    def reset(self):\n",
    "        self.total_cost = 0\n",
    "        self.quantity = 0\n",
    "        self.average_price = 0"
   ]
  },
  {
   "cell_type": "code",
   "execution_count": 2,
   "metadata": {},
   "outputs": [],
   "source": [
    "def update(position:Position, quantity: float, price: float):\n",
    "    new_quantity = position.quantity + quantity\n",
    "    new_cost = position.total_cost + (quantity * price)\n",
    "\n",
    "    if new_quantity != 0:\n",
    "        position.average_price = new_cost / new_quantity\n",
    "    else:\n",
    "        position.average_price = 0\n",
    "\n",
    "    position.quantity = new_quantity\n",
    "    position.total_cost = new_cost\n",
    "\n",
    "    return position"
   ]
  },
  {
   "cell_type": "code",
   "execution_count": 3,
   "metadata": {},
   "outputs": [],
   "source": [
    "pos = Position()"
   ]
  },
  {
   "cell_type": "code",
   "execution_count": 4,
   "metadata": {},
   "outputs": [
    {
     "data": {
      "text/plain": [
       "total_cost: 300000\n",
       "quantity: 2000\n",
       "average_price: 150.0"
      ]
     },
     "execution_count": 4,
     "metadata": {},
     "output_type": "execute_result"
    }
   ],
   "source": [
    "# Add +2000 units @ $150\n",
    "pos.reset()\n",
    "update(pos, 2000, 150)"
   ]
  },
  {
   "cell_type": "code",
   "execution_count": 5,
   "metadata": {},
   "outputs": [
    {
     "data": {
      "text/plain": [
       "total_cost: 412275\n",
       "quantity: 1725\n",
       "average_price: 239.0"
      ]
     },
     "execution_count": 5,
     "metadata": {},
     "output_type": "execute_result"
    }
   ],
   "source": [
    "# Add +1725 units @ $239\n",
    "pos.reset()\n",
    "update(pos, 1725, 239)"
   ]
  },
  {
   "cell_type": "code",
   "execution_count": 6,
   "metadata": {},
   "outputs": [
    {
     "data": {
      "text/plain": [
       "total_cost: 300000\n",
       "quantity: 2000\n",
       "average_price: 150.0"
      ]
     },
     "execution_count": 6,
     "metadata": {},
     "output_type": "execute_result"
    }
   ],
   "source": [
    "# Add +2000 units @ $150\n",
    "pos.reset()\n",
    "update(pos, 2000, 150)"
   ]
  },
  {
   "cell_type": "code",
   "execution_count": 7,
   "metadata": {},
   "outputs": [
    {
     "data": {
      "text/plain": [
       "total_cost: 712275\n",
       "quantity: 3725\n",
       "average_price: 191.21476510067114"
      ]
     },
     "execution_count": 7,
     "metadata": {},
     "output_type": "execute_result"
    }
   ],
   "source": [
    "# Add +1725 units @ $239\n",
    "update(pos, 1725, 239)"
   ]
  },
  {
   "cell_type": "code",
   "execution_count": 8,
   "metadata": {},
   "outputs": [
    {
     "data": {
      "text/plain": [
       "total_cost: 412275\n",
       "quantity: 1725\n",
       "average_price: 239.0"
      ]
     },
     "execution_count": 8,
     "metadata": {},
     "output_type": "execute_result"
    }
   ],
   "source": [
    "# Remove +2000 units @ $150\n",
    "update(pos, -2000, 150)"
   ]
  }
 ],
 "metadata": {
  "kernelspec": {
   "display_name": "btopt-FO9oQ83z-py3.12",
   "language": "python",
   "name": "python3"
  },
  "language_info": {
   "codemirror_mode": {
    "name": "ipython",
    "version": 3
   },
   "file_extension": ".py",
   "mimetype": "text/x-python",
   "name": "python",
   "nbconvert_exporter": "python",
   "pygments_lexer": "ipython3",
   "version": "3.12.4"
  }
 },
 "nbformat": 4,
 "nbformat_minor": 2
}
