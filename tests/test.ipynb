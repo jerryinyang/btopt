{
 "cells": [
  {
   "cell_type": "code",
   "execution_count": 8,
   "metadata": {},
   "outputs": [
    {
     "name": "stdout",
     "output_type": "stream",
     "text": [
      "Time taken to access elements in a 2D list: 0.173210 seconds\n",
      "Time taken to access elements in a 2D NumPy array: 0.683446 seconds\n"
     ]
    }
   ],
   "source": [
    "def downsample_data(\n",
    "    lower_df: pd.DataFrame,\n",
    "    upper_series: Union[pd.DataFrame, pd.Series],\n",
    "    lower_timeframe: str,\n",
    "    upper_timeframe: str,\n",
    ") -> pd.DataFrame:\n",
    "    \"\"\"\n",
    "    Downscales a DataFrame to align with the given upper timeframe DataFrame or Series.\n",
    "\n",
    "    Args:\n",
    "        lower_df (pd.DataFrame): The lower timeframe DataFrame.\n",
    "        upper_series (pd.DataFrame or pd.Series): The upper timeframe DataFrame or Series.\n",
    "        lower_timeframe (str): The lower timeframe of the input DataFrame.\n",
    "        upper_timeframe (str): The upper timeframe for alignment.\n",
    "\n",
    "    Returns:\n",
    "        pd.DataFrame: A DataFrame where the values from upper_series are aligned with the lower_df.\n",
    "\n",
    "    Raises:\n",
    "        ValueError: If the upper_series is empty.\n",
    "        ValueError: If the frequencies of the timeframes are not compatible.\n",
    "        ValueError: If the indices are not DatetimeIndex.\n",
    "    \"\"\"\n",
    "    # Validate inputs\n",
    "    if not isinstance(lower_df.index, pd.DatetimeIndex):\n",
    "        raise ValueError(\"lower_df must be indexed by DatetimeIndex\")\n",
    "    if not isinstance(upper_series.index, pd.DatetimeIndex):\n",
    "        raise ValueError(\"upper_series must be indexed by DatetimeIndex\")\n",
    "\n",
    "    if upper_series.empty:\n",
    "        raise ValueError(\"upper_series cannot be empty\")\n",
    "\n",
    "    # Convert upper_series to DataFrame if it is a Series\n",
    "    if isinstance(upper_series, pd.Series):\n",
    "        upper_series = upper_series.to_frame()\n",
    "\n",
    "    # Check if the lower timeframe is higher frequency than the upper timeframe\n",
    "    lower_freq = pd.Timedelta(lower_timeframe)\n",
    "    upper_freq = pd.Timedelta(upper_timeframe)\n",
    "\n",
    "    if lower_freq >= upper_freq:\n",
    "        raise ValueError(\n",
    "            \"The lower timeframe must be a higher frequency than the upper timeframe\"\n",
    "        )\n",
    "\n",
    "    # Resample upper_series to align with lower_df\n",
    "    resampled_upper_series = upper_series.resample(lower_timeframe).ffill()\n",
    "\n",
    "    # Shift the resampled upper_series to avoid look-ahead bias\n",
    "    resampled_upper_series = resampled_upper_series.shift(1)\n",
    "\n",
    "    # Align the resampled upper_series with the lower_df\n",
    "    aligned_upper_series = resampled_upper_series.reindex(\n",
    "        lower_df.index, method=\"ffill\"\n",
    "    )\n",
    "\n",
    "    # Concatenate the aligned upper_series with the lower_df\n",
    "    result_df = pd.concat([lower_df, aligned_upper_series], axis=1)\n",
    "\n",
    "    return result_df"
   ]
  }
 ],
 "metadata": {
  "kernelspec": {
   "display_name": "btopt-FO9oQ83z-py3.12",
   "language": "python",
   "name": "python3"
  },
  "language_info": {
   "codemirror_mode": {
    "name": "ipython",
    "version": 3
   },
   "file_extension": ".py",
   "mimetype": "text/x-python",
   "name": "python",
   "nbconvert_exporter": "python",
   "pygments_lexer": "ipython3",
   "version": "3.12.4"
  }
 },
 "nbformat": 4,
 "nbformat_minor": 2
}
