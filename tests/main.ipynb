{
 "cells": [
  {
   "cell_type": "code",
   "execution_count": 1,
   "metadata": {},
   "outputs": [],
   "source": [
    "from datetime import datetime\n",
    "from decimal import Decimal\n",
    "\n",
    "import numpy as np\n",
    "import talib as ta\n",
    "\n",
    "from btopt.data.bar import Bar\n",
    "from btopt.data.dataloader import CSVDataLoader\n",
    "from btopt.engine import Engine\n",
    "from btopt.log_config import logger_main\n",
    "from btopt.order import Order\n",
    "from btopt.strategy.strategy import Strategy"
   ]
  },
  {
   "cell_type": "code",
   "execution_count": 2,
   "metadata": {},
   "outputs": [],
   "source": [
    "class Empty(Strategy):\n",
    "    def __init__(\n",
    "        self,\n",
    "    ) -> None:\n",
    "        super().__init__()\n",
    "\n",
    "    def on_data(self, bar: Bar) -> None:\n",
    "        x = Engine()\n",
    "        x._dataview.data\n",
    "\n",
    "        if len(self) <= 1:\n",
    "            return\n",
    "\n",
    "        self.debug(f\"PRIMARY: {(self.data.close[1])}, TIMEFRAME: {self.datas.keys()}\")\n",
    "        self.debug(f\"TIMEFRAMES: {self.datas[self._primary_symbol].timeframes}\")\n",
    "        # self.debug(\n",
    "        #     f\"SECONDARY: {(self.datas[self._primary_symbol].get(value=\"close\"))}, TIMEFRAME: {self.datas[self._primary_symbol][1]._timeframe}\"\n",
    "        # )\n",
    "\n",
    "        # if len(self) > 100:\n",
    "        #     raise\n",
    "\n",
    "    @staticmethod\n",
    "    def debug(message):\n",
    "        logger_main.info(message)\n",
    "\n",
    "\n",
    "class SimpleMovingAverageCrossover(Strategy):\n",
    "    def __init__(self, fast_period: int = 10, slow_period: int = 20):\n",
    "        self.fast_period = fast_period\n",
    "        self.slow_period = slow_period\n",
    "        self.warmup_period = 1\n",
    "\n",
    "        self.fast_ma = None\n",
    "        self.slow_ma = None\n",
    "\n",
    "        self.total = 0\n",
    "\n",
    "    def on_data(self) -> None:\n",
    "        bar = self.datas[self._primary_symbol].get(index=0)\n",
    "        close_prices = self.datas[self._primary_symbol].get(\n",
    "            size=self.slow_period, value=\"close\"\n",
    "        )[::-1]\n",
    "\n",
    "        if len(close_prices) < self.slow_period:\n",
    "            return\n",
    "\n",
    "        fast_ma = ta.SMA(\n",
    "            np.array(close_prices).astype(float)[::-1], timeperiod=self.fast_period\n",
    "        )[-1]\n",
    "        slow_ma = ta.SMA(\n",
    "            np.array(close_prices).astype(float)[::-1], timeperiod=self.slow_period\n",
    "        )[-1]\n",
    "\n",
    "        formatted_time = datetime.fromtimestamp(bar.timestamp / 1_000_000_000).strftime(\n",
    "            \"%Y-%m-%d, %H:%M:%S\"\n",
    "        )\n",
    "        self.log(\n",
    "            f\"\\n–––––––––––––––––––––––––––––––––––––––––––––––––––––––––––––––\\nDate: {formatted_time} | Close: {bar.close} | \\nPrevious: {[float(x) for x in close_prices]}\"\n",
    "        )\n",
    "        # # current_position = self.get_current_position(bar.ticker)\n",
    "        # if (self.fast_ma is not None) and (self.slow_ma is not None):\n",
    "        #     prev_diff = self.fast_ma - self.slow_ma\n",
    "        #     diff = fast_ma - slow_ma\n",
    "\n",
    "        #     if (diff > 0) and (prev_diff <= 0):\n",
    "        #         self.log(\"Bullish crossover.\")\n",
    "        #         # # Bullish crossover\n",
    "        #         # if current_position <= 0:\n",
    "        #         #     size = abs(current_position) + 1\n",
    "        #         #     self.buy(bar.ticker, size)\n",
    "        #         #     self.total += 1\n",
    "        #     elif (diff < 0) and (prev_diff >= 0):\n",
    "        #         self.log(\"Bearish crossover.\")\n",
    "        #         # # Bearish crossover\n",
    "        #         # if current_position >= 0:\n",
    "        #         #     size = current_position + 1\n",
    "        #         #     self.sell(bar.ticker, size)\n",
    "        #         #     self.total += 1\n",
    "\n",
    "        # Update MA values for next iteration\n",
    "        self.fast_ma = fast_ma\n",
    "        self.slow_ma = slow_ma\n",
    "\n",
    "    def on_order_update(self, order: Order) -> None:\n",
    "        logger_main.info(f\"Order update: {order}\")\n",
    "\n",
    "    def on_trade_update(self, trade) -> None:\n",
    "        logger_main.info(f\"Trade update: {trade}\")"
   ]
  },
  {
   "cell_type": "code",
   "execution_count": 3,
   "metadata": {},
   "outputs": [],
   "source": [
    "def run_backtest():\n",
    "    # Initialize the engine\n",
    "    engine = Engine()\n",
    "\n",
    "    # Load data\n",
    "    symbol = \"EURUSD\"\n",
    "    start_date = \"2022-01-01\"\n",
    "    end_date = \"2023-01-01\"\n",
    "\n",
    "    ctf, htf = \"1h\", \"1d\"\n",
    "\n",
    "    dataloader = CSVDataLoader(symbol, \"1m\", start_date=start_date, end_date=end_date)\n",
    "\n",
    "    # engine.resample_data(dataloader, ctf)\n",
    "    engine.resample_data(dataloader, htf)\n",
    "\n",
    "    # # Create and add the strategy\n",
    "    # strategy = SimpleMovingAverageCrossover(\n",
    "    #     \"SMA Crossover\", fast_period=10, slow_period=20\n",
    "    # )\n",
    "\n",
    "    # engine.add_strategy(Empty, ctf, htf)\n",
    "    engine.add_strategy(SimpleMovingAverageCrossover, fast_period=10, slow_period=20)\n",
    "\n",
    "    # Set up the backtest configuration\n",
    "\n",
    "    initial_capital = Decimal(\"100000\")\n",
    "    commission_rate = Decimal(\"0.001\")  # 0.1% commission\n",
    "    config = {\n",
    "        \"initial_capital\": initial_capital,\n",
    "        \"commission_rate\": commission_rate,\n",
    "    }\n",
    "    engine.set_config(config)\n",
    "\n",
    "    # Run the backtest\n",
    "    try:\n",
    "        logger_main.info(\"Starting backtest\")\n",
    "        reporter = engine.run()\n",
    "\n",
    "        return reporter\n",
    "    except Exception as e:\n",
    "        logger_main.error(f\"Error during backtest: {e}\", exc_info=True)"
   ]
  },
  {
   "cell_type": "code",
   "execution_count": 4,
   "metadata": {},
   "outputs": [
    {
     "name": "stdout",
     "output_type": "stream",
     "text": [
      "Log file '/Users/jerryinyang/Code/btopt/logs/main.log' has been cleared successfully.\n"
     ]
    }
   ],
   "source": [
    "reporter = run_backtest()"
   ]
  },
  {
   "cell_type": "code",
   "execution_count": 5,
   "metadata": {},
   "outputs": [
    {
     "ename": "AttributeError",
     "evalue": "'NoneType' object has no attribute 'calculate_calmar_ratio'",
     "output_type": "error",
     "traceback": [
      "\u001b[0;31m---------------------------------------------------------------------------\u001b[0m",
      "\u001b[0;31mAttributeError\u001b[0m                            Traceback (most recent call last)",
      "Cell \u001b[0;32mIn[5], line 1\u001b[0m\n\u001b[0;32m----> 1\u001b[0m \u001b[43mreporter\u001b[49m\u001b[38;5;241;43m.\u001b[39;49m\u001b[43mcalculate_calmar_ratio\u001b[49m()\n",
      "\u001b[0;31mAttributeError\u001b[0m: 'NoneType' object has no attribute 'calculate_calmar_ratio'"
     ]
    }
   ],
   "source": [
    "reporter.calculate_calmar_ratio()"
   ]
  },
  {
   "cell_type": "code",
   "execution_count": null,
   "metadata": {},
   "outputs": [],
   "source": [
    "if reporter:\n",
    "    print(\"Backtest completed successfully.\")\n",
    "    print(\"Performance Summary:\")\n",
    "    print(reporter.generate_performance_summary())\n",
    "else:\n",
    "    print(\"Backtest failed.\")"
   ]
  },
  {
   "cell_type": "code",
   "execution_count": null,
   "metadata": {},
   "outputs": [],
   "source": [
    "reporter"
   ]
  }
 ],
 "metadata": {
  "kernelspec": {
   "display_name": "btopt-FO9oQ83z-py3.12",
   "language": "python",
   "name": "python3"
  },
  "language_info": {
   "codemirror_mode": {
    "name": "ipython",
    "version": 3
   },
   "file_extension": ".py",
   "mimetype": "text/x-python",
   "name": "python",
   "nbconvert_exporter": "python",
   "pygments_lexer": "ipython3",
   "version": "3.12.4"
  }
 },
 "nbformat": 4,
 "nbformat_minor": 2
}
