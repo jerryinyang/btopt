{
 "cells": [
  {
   "cell_type": "code",
   "execution_count": 1,
   "metadata": {},
   "outputs": [],
   "source": [
    "from decimal import Decimal\n",
    "\n",
    "from btopt.data.dataloader import CSVDataLoader\n",
    "from btopt.data.timeframe import Timeframe\n",
    "from btopt.engine import Engine\n",
    "from btopt.order import Order\n",
    "from btopt.strategy.strategy import Strategy"
   ]
  },
  {
   "cell_type": "code",
   "execution_count": 2,
   "metadata": {},
   "outputs": [],
   "source": [
    "class SimpleMovingCrossover(Strategy):\n",
    "    def __init__(self, name, parameters):\n",
    "        super().__init__(name, parameters)\n",
    "        self.short_period = self.parameters.get(\"short_period\", 10)\n",
    "        self.long_period = self.parameters.get(\"long_period\", 20)\n",
    "\n",
    "    def generate_signals(self, bar):\n",
    "        symbol = bar.ticker\n",
    "        data = self.get_data(symbol, self.primary_timeframe)\n",
    "\n",
    "        if len(data.close) < self.long_period:\n",
    "            return []\n",
    "\n",
    "        short_ma = data.close[-self.short_period :].mean()\n",
    "        long_ma = data.close[-self.long_period :].mean()\n",
    "\n",
    "        current_position = self.get_current_position(symbol)\n",
    "        signals = []\n",
    "\n",
    "        if short_ma > long_ma and current_position <= 0:\n",
    "            signals.append(\n",
    "                {\n",
    "                    \"symbol\": symbol,\n",
    "                    \"action\": \"BUY\",\n",
    "                    \"size\": 1,\n",
    "                    \"price\": bar.close,\n",
    "                    \"order_type\": Order.ExecType.MARKET,\n",
    "                }\n",
    "            )\n",
    "        elif short_ma < long_ma and current_position >= 0:\n",
    "            signals.append(\n",
    "                {\n",
    "                    \"symbol\": symbol,\n",
    "                    \"action\": \"SELL\",\n",
    "                    \"size\": 1,\n",
    "                    \"price\": bar.close,\n",
    "                    \"order_type\": Order.ExecType.MARKET,\n",
    "                }\n",
    "            )\n",
    "\n",
    "        return signals\n",
    "\n",
    "    def on_order(self, order):\n",
    "        print(f\"Order update: {order}\")\n",
    "\n",
    "    def on_trade(self, trade):\n",
    "        print(f\"Trade update: {trade}\")"
   ]
  },
  {
   "cell_type": "code",
   "execution_count": 3,
   "metadata": {},
   "outputs": [],
   "source": [
    "def run_backtest():\n",
    "    # Initialize the engine\n",
    "    engine = Engine()\n",
    "\n",
    "    # Load data\n",
    "    symbol = \"EURUSD\"\n",
    "    start_date = \"2022-01-01\"\n",
    "    end_date = \"2023-01-01\"\n",
    "    timeframe = \"1d\"\n",
    "\n",
    "    dataloader = CSVDataLoader(symbol, \"1m\", start_date=start_date, end_date=end_date)\n",
    "    engine.resample_data(dataloader, timeframe)\n",
    "\n",
    "    # Create and add the strategy\n",
    "    strategy_params = {\"short_period\": 10, \"long_period\": 20}\n",
    "    strategy = SimpleMovingCrossover(\"SMA Crossover\", strategy_params)\n",
    "    engine.add_strategy(strategy, primary_timeframe=Timeframe(\"1d\"))\n",
    "\n",
    "    # Set up the backtest configuration\n",
    "    initial_capital = Decimal(\"100000\")\n",
    "    commission_rate = Decimal(\"0.001\")  # 0.1% commission\n",
    "    config = {\n",
    "        \"initial_capital\": initial_capital,\n",
    "        \"commission_rate\": commission_rate,\n",
    "    }\n",
    "    engine.set_config(config)\n",
    "\n",
    "    # Run the backtest\n",
    "    results = engine.run()\n",
    "\n",
    "    # Print the results\n",
    "    print(\"\\nBacktest Results:\")\n",
    "    print(f\"Total Return: {results['performance_metrics']['total_return']:.2f}%\")\n",
    "    print(f\"Sharpe Ratio: {results['performance_metrics']['sharpe_ratio']:.2f}\")\n",
    "    print(f\"Max Drawdown: {results['performance_metrics']['max_drawdown']:.2f}%\")\n",
    "    print(f\"Win Rate: {results['performance_metrics']['win_rate']:.2f}%\")\n",
    "    print(f\"Profit Factor: {results['performance_metrics']['profit_factor']:.2f}\")\n",
    "    print(f\"Total Trades: {results['performance_metrics']['total_trades']}\")\n",
    "\n",
    "    # Plot the equity curve\n",
    "    equity_curve = results[\"equity_curve\"]\n",
    "    equity_curve.set_index(\"timestamp\", inplace=True)\n",
    "    equity_curve[\"equity\"].plot(title=\"Equity Curve\")\n",
    "    import matplotlib.pyplot as plt\n",
    "\n",
    "    plt.show()"
   ]
  },
  {
   "cell_type": "code",
   "execution_count": 4,
   "metadata": {},
   "outputs": [
    {
     "name": "stdout",
     "output_type": "stream",
     "text": [
      "Data updated for EURUSD at 1d timeframe.\n",
      "Data resampled and added for EURUSD from 1m to 1d timeframe.\n",
      "Resampled data for 1 symbols to 1d.\n"
     ]
    },
    {
     "ename": "AttributeError",
     "evalue": "'Engine' object has no attribute '_strategy_timeframes'",
     "output_type": "error",
     "traceback": [
      "\u001b[0;31m---------------------------------------------------------------------------\u001b[0m",
      "\u001b[0;31mAttributeError\u001b[0m                            Traceback (most recent call last)",
      "Cell \u001b[0;32mIn[4], line 1\u001b[0m\n\u001b[0;32m----> 1\u001b[0m \u001b[43mrun_backtest\u001b[49m\u001b[43m(\u001b[49m\u001b[43m)\u001b[49m\n",
      "Cell \u001b[0;32mIn[3], line 17\u001b[0m, in \u001b[0;36mrun_backtest\u001b[0;34m()\u001b[0m\n\u001b[1;32m     15\u001b[0m strategy_params \u001b[38;5;241m=\u001b[39m {\u001b[38;5;124m\"\u001b[39m\u001b[38;5;124mshort_period\u001b[39m\u001b[38;5;124m\"\u001b[39m: \u001b[38;5;241m10\u001b[39m, \u001b[38;5;124m\"\u001b[39m\u001b[38;5;124mlong_period\u001b[39m\u001b[38;5;124m\"\u001b[39m: \u001b[38;5;241m20\u001b[39m}\n\u001b[1;32m     16\u001b[0m strategy \u001b[38;5;241m=\u001b[39m SimpleMovingCrossover(\u001b[38;5;124m\"\u001b[39m\u001b[38;5;124mSMA Crossover\u001b[39m\u001b[38;5;124m\"\u001b[39m, strategy_params)\n\u001b[0;32m---> 17\u001b[0m \u001b[43mengine\u001b[49m\u001b[38;5;241;43m.\u001b[39;49m\u001b[43madd_strategy\u001b[49m\u001b[43m(\u001b[49m\u001b[43mstrategy\u001b[49m\u001b[43m,\u001b[49m\u001b[43m \u001b[49m\u001b[43mprimary_timeframe\u001b[49m\u001b[38;5;241;43m=\u001b[39;49m\u001b[43mTimeframe\u001b[49m\u001b[43m(\u001b[49m\u001b[38;5;124;43m\"\u001b[39;49m\u001b[38;5;124;43m1d\u001b[39;49m\u001b[38;5;124;43m\"\u001b[39;49m\u001b[43m)\u001b[49m\u001b[43m)\u001b[49m\n\u001b[1;32m     19\u001b[0m \u001b[38;5;66;03m# Set up the backtest configuration\u001b[39;00m\n\u001b[1;32m     20\u001b[0m initial_capital \u001b[38;5;241m=\u001b[39m Decimal(\u001b[38;5;124m\"\u001b[39m\u001b[38;5;124m100000\u001b[39m\u001b[38;5;124m\"\u001b[39m)\n",
      "File \u001b[0;32m~/Code/btopt/btopt/engine.py:530\u001b[0m, in \u001b[0;36mEngine.add_strategy\u001b[0;34m(self, strategy, primary_timeframe)\u001b[0m\n\u001b[1;32m    528\u001b[0m \u001b[38;5;28mself\u001b[39m\u001b[38;5;241m.\u001b[39m_strategies\u001b[38;5;241m.\u001b[39mappend(strategy)\n\u001b[1;32m    529\u001b[0m \u001b[38;5;28;01mif\u001b[39;00m primary_timeframe \u001b[38;5;129;01mis\u001b[39;00m \u001b[38;5;129;01mnot\u001b[39;00m \u001b[38;5;28;01mNone\u001b[39;00m:\n\u001b[0;32m--> 530\u001b[0m     \u001b[38;5;28;43mself\u001b[39;49m\u001b[38;5;241;43m.\u001b[39;49m\u001b[43m_strategy_timeframes\u001b[49m[strategy] \u001b[38;5;241m=\u001b[39m primary_timeframe\n\u001b[1;32m    531\u001b[0m logger_main\u001b[38;5;241m.\u001b[39minfo(\u001b[38;5;124mf\u001b[39m\u001b[38;5;124m\"\u001b[39m\u001b[38;5;124mAdded strategy: \u001b[39m\u001b[38;5;132;01m{\u001b[39;00mstrategy\u001b[38;5;241m.\u001b[39m\u001b[38;5;18m__class__\u001b[39m\u001b[38;5;241m.\u001b[39m\u001b[38;5;18m__name__\u001b[39m\u001b[38;5;132;01m}\u001b[39;00m\u001b[38;5;124m\"\u001b[39m)\n",
      "\u001b[0;31mAttributeError\u001b[0m: 'Engine' object has no attribute '_strategy_timeframes'"
     ]
    }
   ],
   "source": [
    "run_backtest()"
   ]
  }
 ],
 "metadata": {
  "kernelspec": {
   "display_name": "btopt-FO9oQ83z-py3.12",
   "language": "python",
   "name": "python3"
  },
  "language_info": {
   "codemirror_mode": {
    "name": "ipython",
    "version": 3
   },
   "file_extension": ".py",
   "mimetype": "text/x-python",
   "name": "python",
   "nbconvert_exporter": "python",
   "pygments_lexer": "ipython3",
   "version": "3.12.4"
  }
 },
 "nbformat": 4,
 "nbformat_minor": 2
}
